{
  "nbformat": 4,
  "nbformat_minor": 0,
  "metadata": {
    "colab": {
      "provenance": [],
      "authorship_tag": "ABX9TyMBW81Szl7XEbgedu96oURi",
      "include_colab_link": true
    },
    "kernelspec": {
      "name": "python3",
      "display_name": "Python 3"
    },
    "language_info": {
      "name": "python"
    }
  },
  "cells": [
    {
      "cell_type": "markdown",
      "metadata": {
        "id": "view-in-github",
        "colab_type": "text"
      },
      "source": [
        "<a href=\"https://colab.research.google.com/github/56nh4/zoeywu/blob/main/EX01_02BMI.ipynb\" target=\"_parent\"><img src=\"https://colab.research.google.com/assets/colab-badge.svg\" alt=\"Open In Colab\"/></a>"
      ]
    },
    {
      "cell_type": "markdown",
      "source": [
        "# EX01-02 BMI計算\n",
        "  由輸入分別取得體重(kg)及身高(cm)，輸出BMI值並四捨五入到小數點以下一位"
      ],
      "metadata": {
        "id": "QoqP_BnZNVML"
      }
    },
    {
      "cell_type": "code",
      "source": [
        "h = float(input('請輸入您的身高(公分):'))\n",
        "w = float(input('請輸入您的體重(公斤):'))\n",
        "bmi = w / ( h/100 ) ** 2\n",
        "print('您的BMI為:',round(bmi,1))"
      ],
      "metadata": {
        "id": "8fnlKNc-R6zI",
        "colab": {
          "base_uri": "https://localhost:8080/"
        },
        "outputId": "035d5359-6912-4013-9d7c-0e609203256d"
      },
      "execution_count": 1,
      "outputs": [
        {
          "output_type": "stream",
          "name": "stdout",
          "text": [
            "請輸入您的身高(公分):169.5\n",
            "請輸入您的體重(公斤):59.4\n",
            "您的BMI為: 20.7\n"
          ]
        }
      ]
    }
  ]
}