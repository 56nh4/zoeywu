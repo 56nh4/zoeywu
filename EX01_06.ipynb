{
  "nbformat": 4,
  "nbformat_minor": 0,
  "metadata": {
    "colab": {
      "provenance": [],
      "authorship_tag": "ABX9TyOqrhyoJLvMlXnZxdjz8Y5Y",
      "include_colab_link": true
    },
    "kernelspec": {
      "name": "python3",
      "display_name": "Python 3"
    },
    "language_info": {
      "name": "python"
    }
  },
  "cells": [
    {
      "cell_type": "markdown",
      "metadata": {
        "id": "view-in-github",
        "colab_type": "text"
      },
      "source": [
        "<a href=\"https://colab.research.google.com/github/56nh4/zoeywu/blob/main/EX01_06.ipynb\" target=\"_parent\"><img src=\"https://colab.research.google.com/assets/colab-badge.svg\" alt=\"Open In Colab\"/></a>"
      ]
    },
    {
      "cell_type": "markdown",
      "source": [
        "#EX01-06 簡易購物車\n",
        "實作一個簡易的購物車，能夠加入商品、移除商品、結帳計算金額"
      ],
      "metadata": {
        "id": "3QztZSLETwoW"
      }
    },
    {
      "cell_type": "code",
      "source": [
        "from IPython.display import clear_output\n",
        "shopping_cart = []\n",
        "products = { \"apple\" : 25 , \"banana\" : 12 , \"cherry\" : 30 }\n",
        "while True:\n",
        "  clear_output()\n",
        "  print('商品欄:',','.join([f'{pd}/{pr}'for pd,pr in products.items()]))\n",
        "  print('購物車:',','.join(shopping_cart))\n",
        "  print('功能列:',',','1.新增商品 2.移除商品 3.結帳 4.離開')\n",
        "  act = input()\n",
        "  if act[0] == '1':\n",
        "    shopping_cart.append( act[1:])\n",
        "  elif act[0] == '2':\n",
        "    shopping_cart.remove( act[1:])\n",
        "  elif act[0] == '3':\n",
        "    tt = 0\n",
        "    for pd in shopping_cart:\n",
        "      tt += products[pd]\n",
        "    print('結帳金額:',tt)\n",
        "    break\n",
        "  else:\n",
        "    print('bye')\n",
        "    break"
      ],
      "metadata": {
        "colab": {
          "base_uri": "https://localhost:8080/"
        },
        "id": "kZdjSOiuUE0r",
        "outputId": "bbf29d58-d8f5-4938-a974-766caa424b1c"
      },
      "execution_count": 7,
      "outputs": [
        {
          "output_type": "stream",
          "name": "stdout",
          "text": [
            "商品欄: apple/25,banana/12,cherry/30\n",
            "購物車: banana\n",
            "功能列: , 1.新增商品 2.移除商品 3.結帳 4.離開\n",
            "3\n",
            "結帳金額: 12\n"
          ]
        }
      ]
    }
  ]
}