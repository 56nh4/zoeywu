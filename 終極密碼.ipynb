{
  "nbformat": 4,
  "nbformat_minor": 0,
  "metadata": {
    "colab": {
      "provenance": [],
      "authorship_tag": "ABX9TyOw8VofnFsYXEQOMiEi7uxz",
      "include_colab_link": true
    },
    "kernelspec": {
      "name": "python3",
      "display_name": "Python 3"
    },
    "language_info": {
      "name": "python"
    }
  },
  "cells": [
    {
      "cell_type": "markdown",
      "metadata": {
        "id": "view-in-github",
        "colab_type": "text"
      },
      "source": [
        "<a href=\"https://colab.research.google.com/github/56nh4/zoeywu/blob/main/EX01_04.ipynb\" target=\"_parent\"><img src=\"https://colab.research.google.com/assets/colab-badge.svg\" alt=\"Open In Colab\"/></a>"
      ]
    },
    {
      "cell_type": "markdown",
      "source": [
        "#EX01-04 終極密碼\n",
        "- 程式自動產生一個1~99的亂數\n",
        "\n",
        "\n",
        "- 程式顯示猜測範圍，並讓玩家輸入猜測的數字\n",
        "\n",
        "- 如果輸入的數字超出範圍要顯示超出範圍\n",
        "\n",
        "- 如果沒猜中，顯示新的範圍並讓玩家一直猜到猜中數字為止"
      ],
      "metadata": {
        "id": "Cbw1hy5Fwr5i"
      }
    },
    {
      "cell_type": "code",
      "source": [
        "import random\n",
        "ans = random.randint(1,99)\n",
        "\n",
        "lf = 0\n",
        "rf = 100\n",
        "\n",
        "qu = -1\n",
        "\n",
        "while qu != ans:\n",
        "  print(lf,'-',rf)\n",
        "  gu = int(input('猜一個數字:'))\n",
        "\n",
        "  #超過範圍\n",
        "  if gu <= lf or gu >= rf :\n",
        "    print('超過範圍了!')\n",
        "\n",
        "  #比炸彈小\n",
        "  elif gu < ans :\n",
        "    lf = gu\n",
        "  #比炸彈大\n",
        "  elif gu > ans :\n",
        "    rf = gu\n",
        "  #猜中\n",
        "  else :\n",
        "    print('bingo!!')\n",
        "    break"
      ],
      "metadata": {
        "colab": {
          "base_uri": "https://localhost:8080/"
        },
        "id": "sMRqzYJTxEn6",
        "outputId": "6f68b4be-560e-470b-c7dd-8276a76d56f9"
      },
      "execution_count": 12,
      "outputs": [
        {
          "output_type": "stream",
          "name": "stdout",
          "text": [
            "0 - 100\n",
            "猜一個數字:50\n",
            "0 - 50\n",
            "猜一個數字:30\n",
            "30 - 50\n",
            "猜一個數字:40\n",
            "30 - 40\n",
            "猜一個數字:33\n",
            "bingo!!\n"
          ]
        }
      ]
    }
  ]
}
