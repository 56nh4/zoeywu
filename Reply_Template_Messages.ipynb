{
  "nbformat": 4,
  "nbformat_minor": 0,
  "metadata": {
    "colab": {
      "provenance": [],
      "authorship_tag": "ABX9TyMxey1NK4pl57+CkuM0zcGH",
      "include_colab_link": true
    },
    "kernelspec": {
      "name": "python3",
      "display_name": "Python 3"
    },
    "language_info": {
      "name": "python"
    }
  },
  "cells": [
    {
      "cell_type": "markdown",
      "metadata": {
        "id": "view-in-github",
        "colab_type": "text"
      },
      "source": [
        "<a href=\"https://colab.research.google.com/github/56nh4/zoeywu/blob/main/Reply_Template_Messages.ipynb\" target=\"_parent\"><img src=\"https://colab.research.google.com/assets/colab-badge.svg\" alt=\"Open In Colab\"/></a>"
      ]
    },
    {
      "cell_type": "markdown",
      "source": [
        "#EX05-04 Reply Template Messages\n",
        "- 依使用者輸入：confirm, buttons, carousel, imgCarousel，分別傳送確認模板、按鈕模板、輪播模板及圖片輪播模板。\n",
        "- 模板上的按鈕能觸發不同類型的 Action Object。"
      ],
      "metadata": {
        "id": "wtP8Wd4LpL0V"
      }
    },
    {
      "cell_type": "code",
      "source": [
        "!pip install -q pyngrok flask_ngrok\n",
        "!pip install -q flask line-bot-sdk"
      ],
      "metadata": {
        "colab": {
          "base_uri": "https://localhost:8080/"
        },
        "id": "dI9B0YE3pUyL",
        "outputId": "53c17675-0027-4ae0-8606-afcb2b2ae7c8"
      },
      "execution_count": 1,
      "outputs": [
        {
          "output_type": "stream",
          "name": "stdout",
          "text": [
            "\u001b[?25l   \u001b[90m━━━━━━━━━━━━━━━━━━━━━━━━━━━━━━━━━━━━━━━━\u001b[0m \u001b[32m0.0/776.1 kB\u001b[0m \u001b[31m?\u001b[0m eta \u001b[36m-:--:--\u001b[0m\r\u001b[2K   \u001b[91m━━━━━━━\u001b[0m\u001b[91m╸\u001b[0m\u001b[90m━━━━━━━━━━━━━━━━━━━━━━━━━━━━━━━━\u001b[0m \u001b[32m153.6/776.1 kB\u001b[0m \u001b[31m4.4 MB/s\u001b[0m eta \u001b[36m0:00:01\u001b[0m\r\u001b[2K   \u001b[91m━━━━━━━━━━━━━━━━━━━━━━━━━━━━━━━━━━━━━━━\u001b[0m\u001b[91m╸\u001b[0m \u001b[32m768.0/776.1 kB\u001b[0m \u001b[31m11.7 MB/s\u001b[0m eta \u001b[36m0:00:01\u001b[0m\r\u001b[2K   \u001b[90m━━━━━━━━━━━━━━━━━━━━━━━━━━━━━━━━━━━━━━━━\u001b[0m \u001b[32m776.1/776.1 kB\u001b[0m \u001b[31m9.6 MB/s\u001b[0m eta \u001b[36m0:00:00\u001b[0m\n",
            "\u001b[?25h\u001b[?25l   \u001b[90m━━━━━━━━━━━━━━━━━━━━━━━━━━━━━━━━━━━━━━━━\u001b[0m \u001b[32m0.0/165.6 kB\u001b[0m \u001b[31m?\u001b[0m eta \u001b[36m-:--:--\u001b[0m\r\u001b[2K   \u001b[90m━━━━━━━━━━━━━━━━━━━━━━━━━━━━━━━━━━━━━━━━\u001b[0m \u001b[32m165.6/165.6 kB\u001b[0m \u001b[31m12.1 MB/s\u001b[0m eta \u001b[36m0:00:00\u001b[0m\n",
            "\u001b[?25h"
          ]
        }
      ]
    },
    {
      "cell_type": "code",
      "source": [
        "from google.colab import userdata\n",
        "from pyngrok import ngrok\n",
        "from flask_ngrok import run_with_ngrok\n",
        "\n",
        "def ngrok_start():\n",
        "  ngrok.set_auth_token(userdata.get('NGROK_AUTHTOKEN'))\n",
        "  ngrok.connect(5000)\n",
        "  run_with_ngrok(app)\n",
        "\n",
        "from flask import Flask, request, abort\n",
        "\n",
        "from linebot.v3 import WebhookHandler\n",
        "from linebot.v3.exceptions import InvalidSignatureError\n",
        "from linebot.v3.webhooks import MessageEvent, TextMessageContent\n",
        "from linebot.v3.messaging import (\n",
        "    Configuration, ApiClient, MessagingApi,\n",
        "    ReplyMessageRequest,\n",
        "    TextMessage,\n",
        "    TemplateMessage, ConfirmTemplate, MessageAction,\n",
        "    CarouselTemplate,\n",
        "    CarouselColumn,\n",
        "    URIAction,\n",
        "    PostbackAction\n",
        ")\n",
        "\n",
        "app = Flask(__name__)\n",
        "\n",
        "configuration = Configuration(access_token=userdata.get('LINE_CHANNEL_ACCESS_TOKEN'))\n",
        "handler = WebhookHandler(userdata.get('LINE_CHANNEL_SECRET'))\n",
        "\n",
        "@app.route(\"/callback\", methods=['POST'])\n",
        "def callback():\n",
        "    # get X-Line-Signature header value\n",
        "    signature = request.headers['X-Line-Signature']\n",
        "    # get request body as text\n",
        "    body = request.get_data(as_text=True)\n",
        "    #handle webhook body\n",
        "    try:\n",
        "        handler.handle(body, signature)\n",
        "    except InvalidSignatureError:\n",
        "        abort(400)\n",
        "    return 'OK'\n",
        "\n",
        "\n",
        "@handler.add(MessageEvent, message=TextMessageContent)\n",
        "def handle_message(event):\n",
        "   with ApiClient(configuration) as api_client:\n",
        "      line_bot_api = MessagingApi(api_client)\n",
        "\n",
        "      action = event.message.text\n",
        "      if action == 'confirm':\n",
        "        reply = TemplateSendMessage(\n",
        "            alt_text=\"這是確認視窗\",\n",
        "            template=ConfirmTemplate(\n",
        "                text=\"你喜歡派大星嗎?\",\n",
        "                actions=[\n",
        "                    MessageAction(label='是', text='我超喜歡派大星!'),\n",
        "                    MessageAction(label='否', text='寶寶很喜歡，但寶寶不說')\n",
        "                ]\n",
        "            )\n",
        "          )\n",
        "\n",
        "      elif action == 'carousel':\n",
        "          carousel_template = CarouselTemplate(\n",
        "                columns=[\n",
        "                  CarouselColumn(\n",
        "                    thumbnail_image_url='https://encrypted-tbn0.gstatic.com/images?q=tbn:ANd9GcRpyd0wpIQorEECPYtZgHujfnqD-i0a-HSDhQ&s',\n",
        "                    title='派大星',\n",
        "                    text='金剛屁屁!!',\n",
        "                    actions=[\n",
        "                      URIAction(label='維基百科',url='https://zh-yue.wikipedia.org/wiki/%E6%B4%BE%E5%A4%A7%E6%98%9F'),\n",
        "                      MessageAction(label=\"投票\",text=\"我投金剛屁屁一票!\")\n",
        "                    ]\n",
        "                  ),\n",
        "                  CarouselColumn(\n",
        "                    thumbnail_image_url='https://hao9.qhimg.com/t01fff910ea5364319b.jpg',\n",
        "                    title='海綿寶寶',\n",
        "                    text='抓水母!!',\n",
        "                    actions=[\n",
        "                      URIAction(label='維基百科',url='https://zh.wikipedia.org/zh-tw/%E6%B5%B7%E7%B6%BF%E5%AF%B6%E5%AF%B6'),\n",
        "                      MessageAction(label=\"投票\",text=\"我投海綿一票!\")\n",
        "                    ]\n",
        "                  )\n",
        "               ]\n",
        "              )\n",
        "\n",
        "\n",
        "\n",
        "\n",
        "          reply = TemplateSendMessage(\n",
        "              alt_text=\"這是輪播視窗\",\n",
        "              template=carousel_template\n",
        "          )\n",
        "      else:\n",
        "        response = ask_gemini(action)\n",
        "        reply = TextMessage(text=response)\n",
        "\n",
        "      line_bot_api.reply_message(\n",
        "          ReplyMessageRequest(\n",
        "              reply_token=event.reply_token,\n",
        "              messages=[reply]\n",
        "          )\n",
        "      )\n",
        "\n",
        "ngrok_start()\n",
        "if __name__ == \"__main__\":\n",
        "    app.run()"
      ],
      "metadata": {
        "colab": {
          "base_uri": "https://localhost:8080/"
        },
        "id": "UPuzqWWDqA6V",
        "outputId": "5664dcda-f140-432a-8b8a-b22e9ad4bd7d"
      },
      "execution_count": 13,
      "outputs": [
        {
          "output_type": "stream",
          "name": "stdout",
          "text": [
            " * Serving Flask app '__main__'\n",
            " * Debug mode: off\n"
          ]
        },
        {
          "output_type": "stream",
          "name": "stderr",
          "text": [
            "INFO:werkzeug:\u001b[31m\u001b[1mWARNING: This is a development server. Do not use it in a production deployment. Use a production WSGI server instead.\u001b[0m\n",
            " * Running on http://127.0.0.1:5000\n",
            "INFO:werkzeug:\u001b[33mPress CTRL+C to quit\u001b[0m\n"
          ]
        },
        {
          "output_type": "stream",
          "name": "stdout",
          "text": [
            " * Running on http://d5b2-34-106-25-6.ngrok-free.app\n",
            " * Traffic stats available on http://127.0.0.1:4040\n"
          ]
        }
      ]
    }
  ]
}