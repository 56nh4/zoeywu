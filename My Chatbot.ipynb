{
  "nbformat": 4,
  "nbformat_minor": 0,
  "metadata": {
    "colab": {
      "provenance": [],
      "authorship_tag": "ABX9TyOzKD0R8TNEOyRj8JPGILdM",
      "include_colab_link": true
    },
    "kernelspec": {
      "name": "python3",
      "display_name": "Python 3"
    },
    "language_info": {
      "name": "python"
    }
  },
  "cells": [
    {
      "cell_type": "markdown",
      "metadata": {
        "id": "view-in-github",
        "colab_type": "text"
      },
      "source": [
        "<a href=\"https://colab.research.google.com/github/56nh4/zoeywu/blob/main/EX02_01.ipynb\" target=\"_parent\"><img src=\"https://colab.research.google.com/assets/colab-badge.svg\" alt=\"Open In Colab\"/></a>"
      ]
    },
    {
      "cell_type": "markdown",
      "source": [
        "#EX02-01 My Chatbot\n",
        "- 連結 Gemini API，製作一支專屬自己的聊天機器人\n",
        "\n",
        "- 顯示 Markdown 語法"
      ],
      "metadata": {
        "id": "G1Kdm74CBndD"
      }
    },
    {
      "cell_type": "code",
      "source": [
        "from google.colab import userdata\n",
        "import google.generativeai as genai\n",
        "\n",
        "genai.configure(api_key=userdata.get('GOOGLE_API_KEY'))"
      ],
      "metadata": {
        "id": "x5_tPMKBSRyC"
      },
      "execution_count": 2,
      "outputs": []
    },
    {
      "cell_type": "code",
      "source": [
        "generation_config = {\n",
        "    \"temperature\": 1 ,\n",
        "    \"max_output_tokens\": 1280\n",
        "}\n",
        "model = genai.GenerativeModel(\n",
        "    model_name=\"gemini-2.0-flash\",\n",
        "    generation_config=generation_config\n",
        ")"
      ],
      "metadata": {
        "id": "UmaQ3ZEtSyZP"
      },
      "execution_count": 3,
      "outputs": []
    },
    {
      "cell_type": "code",
      "source": [
        "from IPython.display import Markdown,display\n",
        "\n",
        "chat = model.start_chat(history=[])\n",
        "\n",
        "while True:\n",
        "  message = input('You:')\n",
        "  if message == 'bey!':\n",
        "    break\n",
        "  response = chat.send_message(message)\n",
        "  print('Bot:')\n",
        "  display(Markdown(response.text))"
      ],
      "metadata": {
        "colab": {
          "base_uri": "https://localhost:8080/",
          "height": 1000
        },
        "id": "WE3XbmopUXUm",
        "outputId": "a99f2152-799b-4c33-ef85-dbe1a34cb2cb"
      },
      "execution_count": 4,
      "outputs": [
        {
          "output_type": "stream",
          "name": "stdout",
          "text": [
            "You:hi\n",
            "Bot:\n"
          ]
        },
        {
          "output_type": "display_data",
          "data": {
            "text/plain": [
              "<IPython.core.display.Markdown object>"
            ],
            "text/markdown": "Hi there! How can I help you today?\n"
          },
          "metadata": {}
        },
        {
          "output_type": "stream",
          "name": "stdout",
          "text": [
            "You:how ai works\n",
            "Bot:\n"
          ]
        },
        {
          "output_type": "display_data",
          "data": {
            "text/plain": [
              "<IPython.core.display.Markdown object>"
            ],
            "text/markdown": "Okay, let's break down how AI works. It's a broad topic, but I'll cover the fundamentals and key concepts.\n\n**In a Nutshell: AI is about making computers think and act like humans (or even better in some cases!). It involves teaching computers to learn from data, solve problems, and make decisions without being explicitly programmed for every single scenario.**\n\nHere's a breakdown of the core components and concepts:\n\n**1. Data:**\n\n*   **The Fuel:**  AI needs data to learn. The more high-quality, relevant data it has, the better it can perform.  This data can come in many forms: text, images, audio, video, numerical data (like sales figures), etc.\n*   **Training Data vs. Testing Data:**  Data is usually split into two sets:\n    *   **Training Data:** Used to teach the AI model.\n    *   **Testing Data:** Used to evaluate how well the AI model has learned and how it performs on new, unseen data.\n\n**2. Algorithms:**\n\n*   **The Recipes:** Algorithms are sets of instructions that tell the computer how to process the data and learn from it.  Different algorithms are suited for different tasks.\n*   **Examples of Algorithms:**\n    *   **Linear Regression:**  Used for predicting a continuous value (like house price) based on input features.\n    *   **Logistic Regression:** Used for classification problems (like spam detection – is an email spam or not spam?).\n    *   **Decision Trees:** Creates a tree-like structure to make decisions based on a series of rules.\n    *   **Support Vector Machines (SVMs):**  Effective for classification and regression, finding the best boundary to separate data into different categories.\n    *   **Clustering Algorithms (K-Means):**  Used to group similar data points together.\n    *   **Neural Networks (Deep Learning):** Inspired by the human brain, these are complex algorithms that can learn highly complex patterns from data. More on this below.\n\n**3. Machine Learning (ML):**\n\n*   **Learning from Data:** Machine learning is a subset of AI that focuses on enabling computers to learn from data without being explicitly programmed.  It's the most common approach to building AI systems today.\n*   **Types of Machine Learning:**\n    *   **Supervised Learning:** The algorithm is trained on labeled data (data where the correct answer is already known).  It learns to map inputs to outputs.  Examples: Image classification (identifying objects in images), spam detection.\n    *   **Unsupervised Learning:** The algorithm is trained on unlabeled data (data where the correct answer is not known).  It learns to find patterns and relationships in the data.  Examples: Customer segmentation (grouping customers based on their behavior), anomaly detection.\n    *   **Reinforcement Learning:** The algorithm learns by interacting with an environment and receiving rewards or penalties for its actions.  It aims to learn the optimal strategy to maximize its rewards.  Examples: Training a robot to walk, playing games like chess or Go.\n\n**4. Deep Learning (DL):**\n\n*   **Neural Networks on Steroids:** Deep learning is a subfield of machine learning that uses artificial neural networks with multiple layers (hence \"deep\") to analyze data.\n*   **Neural Networks:**  These networks are composed of interconnected nodes (neurons) that process information.  Each connection has a weight associated with it, which represents the strength of the connection.\n*   **How Deep Learning Works:**  Data is fed into the network, and it passes through multiple layers.  Each layer extracts features from the data.  By the time the data reaches the output layer, the network has learned to recognize complex patterns and relationships.\n*   **Why Deep Learning is Powerful:** Deep learning can automatically learn features from data, which eliminates the need for manual feature engineering (a time-consuming and often difficult process).  It's very effective for tasks like image recognition, natural language processing, and speech recognition.\n*   **Examples of Deep Learning Architectures:**\n    *   **Convolutional Neural Networks (CNNs):** Commonly used for image and video processing.\n    *   **Recurrent Neural Networks (RNNs):** Well-suited for sequential data like text and time series data.\n    *   **Transformers:**  A newer type of neural network architecture that has revolutionized natural language processing (used in models like GPT-3).\n\n**5. The AI Development Process (Simplified):**\n\n1.  **Define the Problem:** Clearly define what you want the AI to do.\n2.  **Gather Data:** Collect and prepare the data needed to train the AI model.  This often involves cleaning, transforming, and labeling the data.\n3.  **Choose an Algorithm:** Select the appropriate algorithm for the task.\n4.  **Train the Model:** Train the AI model using the training data.  This involves adjusting the parameters of the algorithm until it performs well on the training data.\n5.  **Evaluate the Model:** Evaluate the performance of the AI model on the testing data.  This involves measuring its accuracy, precision, recall, and other relevant metrics.\n6.  **Deploy the Model:** Deploy the trained AI model into a real-world application.\n7.  **Monitor and Retrain:** Continuously monitor the performance of the AI model and retrain it with new data as needed.\n\n**Important Concepts:**\n\n*   **Bias:**  AI models can be biased if the data they are trained on is biased.  This can lead to unfair or discriminatory outcomes.\n*   **Overfitting:**  Occurs when an AI model learns the training data too well and performs poorly on new data.\n*   **Underfitting:** Occurs when an AI model doesn't learn the training data well enough and performs poorly on both the training and testing data.\n*   **Explainability (XAI):**  The ability to understand how an AI model makes its decisions.  This is becoming increasingly important, especially in critical applications.\n*   "
          },
          "metadata": {}
        },
        {
          "name": "stdout",
          "output_type": "stream",
          "text": [
            "You:bey!\n"
          ]
        }
      ]
    }
  ]
}
