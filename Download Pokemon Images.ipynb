{
  "nbformat": 4,
  "nbformat_minor": 0,
  "metadata": {
    "colab": {
      "provenance": [],
      "mount_file_id": "1puHGI0WI9P8QazUYmjGQqjzAa9mO45In",
      "authorship_tag": "ABX9TyNc4FA/EiK18B3j2xK22toc",
      "include_colab_link": true
    },
    "kernelspec": {
      "name": "python3",
      "display_name": "Python 3"
    },
    "language_info": {
      "name": "python"
    }
  },
  "cells": [
    {
      "cell_type": "markdown",
      "metadata": {
        "id": "view-in-github",
        "colab_type": "text"
      },
      "source": [
        "<a href=\"https://colab.research.google.com/github/56nh4/zoeywu/blob/main/EX02_04.ipynb\" target=\"_parent\"><img src=\"https://colab.research.google.com/assets/colab-badge.svg\" alt=\"Open In Colab\"/></a>"
      ]
    },
    {
      "cell_type": "markdown",
      "source": [
        "##EX02-04 Download Pokemon Images\n",
        "下載寶可夢圖檔 0001～0020，放到 /content/pokemon/ 資料夾中"
      ],
      "metadata": {
        "id": "Ljoq8TYIQLBo"
      }
    },
    {
      "cell_type": "code",
      "execution_count": null,
      "metadata": {
        "id": "OetbStELQFCM"
      },
      "outputs": [],
      "source": [
        "import requests\n",
        "\n",
        "url = 'https://tw.portal-pokemon.com/play/pokedex/0001'\n",
        "response = requests.get(url)\n",
        "response.text"
      ]
    },
    {
      "cell_type": "code",
      "source": [
        "from bs4 import BeautifulSoup\n",
        "soup = BeautifulSoup(response.text, 'html.parser')"
      ],
      "metadata": {
        "id": "I06dWvwTQlh8"
      },
      "execution_count": 2,
      "outputs": []
    },
    {
      "cell_type": "code",
      "source": [
        "img_url = 'https://tw.portal-pokemon.com' + soup.find('img',class_='pokemon-img__front')['src']\n",
        "img = requests.get(img_url)\n",
        "with open('0001,png','wb') as f:\n",
        "  f.write(img.content)"
      ],
      "metadata": {
        "id": "e4xmd7mrQtsA"
      },
      "execution_count": 3,
      "outputs": []
    },
    {
      "cell_type": "code",
      "source": [
        "import requests\n",
        "from bs4 import BeautifulSoup\n",
        "\n",
        "for i in range(1,11):\n",
        "  id = f'{i:04}'\n",
        "  url = f'https://tw.portal-pokemon.com/play/pokedex/{id}'\n",
        "  response = requests.get(url)\n",
        "  soup = BeautifulSoup(response.text, 'lxml')\n",
        "  img_src = soup.find('img',class_='pokemon-img__front')['src']\n",
        "  img_url = 'https://tw.portal-pokemon.com' + img_src\n",
        "  img = requests.get(img_url)\n",
        "  with open(f'/pokemon/{id}.png','wb') as f:\n",
        "    f.write(img.content)"
      ],
      "metadata": {
        "id": "2onngOurRYXf"
      },
      "execution_count": 10,
      "outputs": []
    }
  ]
}
