{
  "nbformat": 4,
  "nbformat_minor": 0,
  "metadata": {
    "colab": {
      "provenance": [],
      "authorship_tag": "ABX9TyPl8txsKq6EBSYGqqvB5Dzr",
      "include_colab_link": true
    },
    "kernelspec": {
      "name": "python3",
      "display_name": "Python 3"
    },
    "language_info": {
      "name": "python"
    }
  },
  "cells": [
    {
      "cell_type": "markdown",
      "metadata": {
        "id": "view-in-github",
        "colab_type": "text"
      },
      "source": [
        "<a href=\"https://colab.research.google.com/github/56nh4/zoeywu/blob/main/EX02_03.ipynb\" target=\"_parent\"><img src=\"https://colab.research.google.com/assets/colab-badge.svg\" alt=\"Open In Colab\"/></a>"
      ]
    },
    {
      "cell_type": "markdown",
      "source": [
        "##EX02-03 Yahoo 新聞儲存 Google 試算表\n",
        "使用 feedparser 取得 Yahoo 新聞 RSS 的 title, summary, link，並儲存至 Google 試算表"
      ],
      "metadata": {
        "id": "L1SeBr2Mb-KT"
      }
    },
    {
      "cell_type": "code",
      "source": [
        "!pip install feedparser -q"
      ],
      "metadata": {
        "colab": {
          "base_uri": "https://localhost:8080/"
        },
        "id": "IWJOE8eScSLU",
        "outputId": "c6005b57-092c-4098-ee94-c96cb10b32c4"
      },
      "execution_count": 1,
      "outputs": [
        {
          "output_type": "stream",
          "name": "stdout",
          "text": [
            "  Preparing metadata (setup.py) ... \u001b[?25l\u001b[?25hdone\n",
            "\u001b[?25l   \u001b[90m━━━━━━━━━━━━━━━━━━━━━━━━━━━━━━━━━━━━━━━━\u001b[0m \u001b[32m0.0/81.3 kB\u001b[0m \u001b[31m?\u001b[0m eta \u001b[36m-:--:--\u001b[0m\r\u001b[2K   \u001b[91m━━━━━━━━━━━━━━━━━━━━━━━━━━━━━━━━━━━\u001b[0m\u001b[90m╺\u001b[0m\u001b[90m━━━━\u001b[0m \u001b[32m71.7/81.3 kB\u001b[0m \u001b[31m2.5 MB/s\u001b[0m eta \u001b[36m0:00:01\u001b[0m\r\u001b[2K   \u001b[90m━━━━━━━━━━━━━━━━━━━━━━━━━━━━━━━━━━━━━━━━\u001b[0m \u001b[32m81.3/81.3 kB\u001b[0m \u001b[31m1.5 MB/s\u001b[0m eta \u001b[36m0:00:00\u001b[0m\n",
            "\u001b[?25h  Building wheel for sgmllib3k (setup.py) ... \u001b[?25l\u001b[?25hdone\n"
          ]
        }
      ]
    },
    {
      "cell_type": "code",
      "source": [
        "import feedparser\n",
        "feed_url = \"https://tw.news.yahoo.com/rss\"\n",
        "feed_data = feedparser.parse(feed_url)"
      ],
      "metadata": {
        "id": "CRBrLA-JccSW"
      },
      "execution_count": 2,
      "outputs": []
    },
    {
      "cell_type": "code",
      "source": [
        "from google.colab import auth\n",
        "from google.auth import default\n",
        "import gspread\n",
        "\n",
        "auth.authenticate_user()\n",
        "creds, _ = default()\n",
        "gc = gspread.authorize(creds)"
      ],
      "metadata": {
        "id": "7vAfPcTMcvNq"
      },
      "execution_count": 3,
      "outputs": []
    },
    {
      "cell_type": "code",
      "source": [
        "url = 'https://docs.google.com/spreadsheets/d/1oiDorPZN7rmCF-RKvsvRtQ-AvpxfB8oHgJkSwYrwzCk/edit?usp=sharing'\n",
        "workbook = gc.open_by_url(url)\n",
        "\n",
        "sheet = workbook.get_worksheet(0)\n",
        "\n",
        "sheet.clear()\n",
        "sheet.append_row([ 'title' , 'summary' , 'link' ])\n",
        "for entry in feed_data.entries:\n",
        "  sheet.append_row([ entry.title , entry.summary , entry.link ])"
      ],
      "metadata": {
        "id": "ARevI0LddNA9"
      },
      "execution_count": 4,
      "outputs": []
    }
  ]
}