{
  "nbformat": 4,
  "nbformat_minor": 0,
  "metadata": {
    "colab": {
      "provenance": [],
      "authorship_tag": "ABX9TyMJpzzw+COY/SZWQ4qBevfp",
      "include_colab_link": true
    },
    "kernelspec": {
      "name": "python3",
      "display_name": "Python 3"
    },
    "language_info": {
      "name": "python"
    }
  },
  "cells": [
    {
      "cell_type": "markdown",
      "metadata": {
        "id": "view-in-github",
        "colab_type": "text"
      },
      "source": [
        "<a href=\"https://colab.research.google.com/github/56nh4/zoeywu/blob/main/EX01_03.ipynb\" target=\"_parent\"><img src=\"https://colab.research.google.com/assets/colab-badge.svg\" alt=\"Open In Colab\"/></a>"
      ]
    },
    {
      "cell_type": "markdown",
      "source": [
        "#EX01-03 Rock-Paper-Scissors\n",
        "- 寫一支和電腦玩剪刀石頭布的遊戲\n",
        "\n",
        "- 使用 0 代表石頭， 2 代表剪刀， 5 代表布"
      ],
      "metadata": {
        "id": "SX_vgIjmBt_2"
      }
    },
    {
      "cell_type": "code",
      "source": [
        "import random\n",
        "\n",
        "p1 = int(input('0代表石頭，2代表剪刀，5代表布:'))\n",
        "p2 = random.choice([0,2,5])\n",
        "print( '電腦出:' , p2 )\n",
        "\n",
        "if p1 == p2 :\n",
        "  print('平手!')\n",
        "elif ( p1 == 0 and p2 == 2 ) or ( p1 == 2 and p2 == 5 ) or ( p1 == 5 and p2 == 0 ):\n",
        "  print('你贏了!')\n",
        "elif ( p1 == 0 and p2 == 5 ) or ( p1 == 2 and p2 == 0 ) or ( p1 == 5 and p2 == 2 ):\n",
        "  print('你輸了!')\n",
        "\n",
        "else :\n",
        "   print('你出錯拳啦!請輸入0或者2或者5!')"
      ],
      "metadata": {
        "id": "ZSVu_KykCXEm"
      },
      "execution_count": null,
      "outputs": []
    }
  ]
}