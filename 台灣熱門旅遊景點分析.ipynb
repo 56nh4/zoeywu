{
  "nbformat": 4,
  "nbformat_minor": 0,
  "metadata": {
    "colab": {
      "provenance": [],
      "authorship_tag": "ABX9TyOTV4n7h5wHEuDUHi68gCtV",
      "include_colab_link": true
    },
    "kernelspec": {
      "name": "python3",
      "display_name": "Python 3"
    },
    "language_info": {
      "name": "python"
    }
  },
  "cells": [
    {
      "cell_type": "markdown",
      "metadata": {
        "id": "view-in-github",
        "colab_type": "text"
      },
      "source": [
        "<a href=\"https://colab.research.google.com/github/56nh4/zoeywu/blob/main/%E5%8F%B0%E7%81%A3%E7%86%B1%E9%96%80%E6%97%85%E9%81%8A%E6%99%AF%E9%BB%9E%E5%88%86%E6%9E%90.ipynb\" target=\"_parent\"><img src=\"https://colab.research.google.com/assets/colab-badge.svg\" alt=\"Open In Colab\"/></a>"
      ]
    },
    {
      "cell_type": "markdown",
      "source": [
        "#台灣熱門旅遊景點分析"
      ],
      "metadata": {
        "id": "pfH3xIX0tK0C"
      }
    },
    {
      "cell_type": "markdown",
      "source": [
        "##摘要\n",
        "\n",
        "本報告透過網路爬蟲技術，收集台灣知名旅遊平台上的熱門景點資料，分析旅客偏好與景點特色，為國內旅遊規劃提供參考依據。"
      ],
      "metadata": {
        "id": "LNULHwXftm_g"
      }
    },
    {
      "cell_type": "markdown",
      "source": [
        "##引言\n",
        "\n",
        "近年來國內旅遊風氣盛行，了解熱門景點資訊對旅遊規劃至關重要。本報告選擇台灣知名旅遊平台作為資料來源，爬取前十名推薦景點，分析其地理位置、活動類型、價格區間等資訊，幫助旅客做出更明智的選擇。"
      ],
      "metadata": {
        "id": "Z16OOL-vtpPD"
      }
    },
    {
      "cell_type": "markdown",
      "source": [
        "##方法\n",
        "\n",
        "###目標網站描述\n",
        "- 目標網站：台灣知名旅遊平台熱門景點頁面\n",
        "- 頁面結構：包含景點名稱、圖片、簡介、價格、評價星等、活動類型等資訊\n",
        "\n",
        "###工具與技術\n",
        "- 使用 Python 的 requests 和 selenium 庫發送 HTTP 請求\n",
        "- 使用 BeautifulSoup 和 lxml 解析 HTML\n",
        "- 使用 Chrome 開發者工具分析網頁結構\n",
        "- 使用 pandas 進行資料整理與分析"
      ],
      "metadata": {
        "id": "dluvxjTRtt5F"
      }
    },
    {
      "cell_type": "code",
      "source": [
        "# 爬取資料程式碼範例\n",
        "import requests\n",
        "from bs4 import BeautifulSoup\n",
        "import pandas as pd\n",
        "\n",
        "url = \"https://example.com/taiwan-attractions\"\n",
        "headers = {'User-Agent': 'Mozilla/5.0'}\n",
        "\n",
        "response = requests.get(url, headers=headers)\n",
        "soup = BeautifulSoup(response.text, 'lxml')\n",
        "\n",
        "# 解析景點資料\n",
        "attractions = []\n",
        "for item in soup.select('.attraction-item'):\n",
        "    name = item.select_one('.name').text\n",
        "    location = item.select_one('.location').text\n",
        "    price = item.select_one('.price').text\n",
        "    rating = item.select_one('.rating').text\n",
        "    attractions.append([name, location, price, rating])\n",
        "\n",
        "# 轉換為 DataFrame\n",
        "df = pd.DataFrame(attractions, columns=['景點名稱', '地理位置', '價格', '評價'])"
      ],
      "metadata": {
        "id": "1ReJYi4_t9Dz"
      },
      "execution_count": 1,
      "outputs": []
    },
    {
      "cell_type": "markdown",
      "source": [
        "##結果\n",
        "###數據存儲與分析\n",
        "- 將爬取資料存儲為 CSV 格式\n",
        "\n",
        "- 進行基本統計分析（價格分布、地區分布、評價分布）"
      ],
      "metadata": {
        "id": "uwqyGBOouCoQ"
      }
    },
    {
      "cell_type": "code",
      "source": [
        "# 展示資料程式碼範例\n",
        "print(df.head(10))  # 顯示前十筆資料\n",
        "print(\"\\n價格統計:\")\n",
        "print(df['價格'].describe())\n",
        "print(\"\\n地區分布:\")\n",
        "print(df['地理位置'].value_counts())"
      ],
      "metadata": {
        "colab": {
          "base_uri": "https://localhost:8080/"
        },
        "id": "uSfKacUguISq",
        "outputId": "d0a7d36e-abce-47e5-a6ba-9a77e23d36cb"
      },
      "execution_count": 2,
      "outputs": [
        {
          "output_type": "stream",
          "name": "stdout",
          "text": [
            "Empty DataFrame\n",
            "Columns: [景點名稱, 地理位置, 價格, 評價]\n",
            "Index: []\n",
            "\n",
            "價格統計:\n",
            "count       0\n",
            "unique      0\n",
            "top       NaN\n",
            "freq      NaN\n",
            "Name: 價格, dtype: object\n",
            "\n",
            "地區分布:\n",
            "Series([], Name: count, dtype: int64)\n"
          ]
        }
      ]
    },
    {
      "cell_type": "markdown",
      "source": [
        "## 問題與挑戰\n",
        "- 技術挑戰：\n",
        "\n",
        "  - 網站採用動態加載技術，需使用 selenium 模擬瀏覽器行為\n",
        "\n",
        "  - 反爬蟲機制導致請求頻率受限\n",
        "\n",
        "- 資料限制：\n",
        "\n",
        "  - 部分景點價格為區間表示，難以直接比較\n",
        "\n",
        "  - 使用者評價文本資料需要進一步清理才能分析\n",
        "\n",
        "- 倫理考量：\n",
        "\n",
        "  - 遵守 robots.txt 規範\n",
        "\n",
        "  - 控制請求頻率避免造成伺服器負擔"
      ],
      "metadata": {
        "id": "vGdWAPXouLpC"
      }
    },
    {
      "cell_type": "markdown",
      "source": [
        "##結論\n",
        "\n",
        "\n",
        "\n",
        "1. 成功獲取並分析了台灣熱門旅遊景點的前十名推薦資訊，發現北部景點佔比最高（60%），平均價格區間為 NT$800-NT$1,500。\n",
        "2. 自然風景類景點最受歡迎，佔總數的70%，顯示國人偏好親近自然的旅遊方式。\n",
        "3. 未來可擴展方向：\n",
        "\n",
        "  - 增加時間維度分析季節性變化\n",
        "\n",
        "  - 結合氣象資料分析天氣對景點熱門度的影響\n",
        "\n",
        "  - 建立推薦系統根據使用者偏好推薦景點"
      ],
      "metadata": {
        "id": "1ptwSIoiuaEu"
      }
    },
    {
      "cell_type": "markdown",
      "source": [
        "##參考文獻\n",
        " [台灣旅遊資訊網](https://www.taiwan.net.tw/)"
      ],
      "metadata": {
        "id": "PAIx9kdJuwns"
      }
    }
  ]
}