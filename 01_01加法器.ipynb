{
  "nbformat": 4,
  "nbformat_minor": 0,
  "metadata": {
    "colab": {
      "provenance": [],
      "authorship_tag": "ABX9TyPDrF3OzCn25pFXyrjMEAoe",
      "include_colab_link": true
    },
    "kernelspec": {
      "name": "python3",
      "display_name": "Python 3"
    },
    "language_info": {
      "name": "python"
    }
  },
  "cells": [
    {
      "cell_type": "markdown",
      "metadata": {
        "id": "view-in-github",
        "colab_type": "text"
      },
      "source": [
        "<a href=\"https://colab.research.google.com/github/56nh4/zoeywu/blob/main/01_01%E5%8A%A0%E6%B3%95%E5%99%A8.ipynb\" target=\"_parent\"><img src=\"https://colab.research.google.com/assets/colab-badge.svg\" alt=\"Open In Colab\"/></a>"
      ]
    },
    {
      "cell_type": "markdown",
      "source": [
        "# EX01-01 加法器\n",
        "  由兩個輸入取得兩個整數，輸出兩數相加的結果"
      ],
      "metadata": {
        "id": "Q_zk5kUEGofu"
      }
    },
    {
      "cell_type": "code",
      "source": [
        "a = int(input('請輸入第一個整數'))\n",
        "b = int(input('請輸入第二個整數'))\n",
        "c = a+b\n",
        "print('加起來的結果為:',c)"
      ],
      "metadata": {
        "colab": {
          "base_uri": "https://localhost:8080/"
        },
        "id": "AEMXUndGK7SN",
        "outputId": "f2bb753d-6aee-47e2-994c-32106d615949"
      },
      "execution_count": null,
      "outputs": [
        {
          "output_type": "stream",
          "name": "stdout",
          "text": [
            "請輸入第一個整數11\n",
            "請輸入第二個整數26\n",
            "加起來的結果為: 37\n"
          ]
        }
      ]
    }
  ]
}